{
  "nbformat": 4,
  "nbformat_minor": 0,
  "metadata": {
    "colab": {
      "provenance": []
    },
    "kernelspec": {
      "name": "python3",
      "display_name": "Python 3"
    },
    "language_info": {
      "name": "python"
    }
  },
  "cells": [
    {
      "cell_type": "code",
      "execution_count": null,
      "metadata": {
        "id": "-bmiQBDN6TBY"
      },
      "outputs": [],
      "source": []
    },
    {
      "cell_type": "markdown",
      "source": [
        "1-  What is Object-Oriented Programming (OOP)"
      ],
      "metadata": {
        "id": "TV_tpfo46ba6"
      }
    },
    {
      "cell_type": "markdown",
      "source": [
        "Object-Oriented Programming (OOP) is a programming paradigm that organizes and structures code by using objects. It focuses on defining and manipulating objects, which are instances of classes. OOP enables developers to model real-world entities and their behaviors within software, making code more modular, reusable, and easier to maintain."
      ],
      "metadata": {
        "id": "jJWE0wYu7-XU"
      }
    },
    {
      "cell_type": "markdown",
      "source": [
        "2- What is a class in OOP"
      ],
      "metadata": {
        "id": "NLKMje6V8WrV"
      }
    },
    {
      "cell_type": "markdown",
      "source": [
        "In Object-Oriented Programming (OOP), a class is a blueprint or template for creating objects. It defines the structure and behavior that the objects created from the class will have. A class encapsulates data (attributes) and functions (methods) that operate on the data."
      ],
      "metadata": {
        "id": "V_0uW38p8cRv"
      }
    },
    {
      "cell_type": "markdown",
      "source": [
        "3- What is an object in OOP"
      ],
      "metadata": {
        "id": "PbkAzWjx8hZZ"
      }
    },
    {
      "cell_type": "markdown",
      "source": [
        "In Object-Oriented Programming (OOP), an object is an instance of a class. It represents a specific realization of the blueprint defined by the class. Objects encapsulate data (attributes) and behavior (methods) and are used to interact with one another to perform tasks in an OOP-based program."
      ],
      "metadata": {
        "id": "ItyDesPV8mM1"
      }
    },
    {
      "cell_type": "markdown",
      "source": [
        "4- What is the difference between abstraction and encapsulation"
      ],
      "metadata": {
        "id": "Uq7W78XT8s5T"
      }
    },
    {
      "cell_type": "markdown",
      "source": [
        "\n",
        "Abstraction and encapsulation are two fundamental concepts in Object-Oriented Programming (OOP), but they focus on different aspects of managing complexity and protecting data. Here’s a breakdown of the differences:\n",
        "\n",
        " **Abstraction**- focuses on hiding the implementation details and showing only the essential features of an object. It simplifies complex systems by modeling them at a high level.\n",
        "Purpose: To reduce complexity and make the system easier to use by exposing only relevant details.\n",
        "\n",
        "**Encapsulation**- is about bundling data (attributes) and methods that operate on that data into a single unit (class). It also involves restricting direct access to some components to protect the integrity of the data.\n",
        "Purpose: To protect data from being accessed or modified unintentionally and ensure controlled interaction with the object."
      ],
      "metadata": {
        "id": "n3zClyzd8xf_"
      }
    },
    {
      "cell_type": "markdown",
      "source": [
        "5-What are dunder methods in Python"
      ],
      "metadata": {
        "id": "JVTwqcNs9Q1V"
      }
    },
    {
      "cell_type": "markdown",
      "source": [
        "Dunder methods (short for double underscore methods) in Python, also known as magic methods or special methods, are special methods that are surrounded by double underscores (e.g., __init__, __str__). These methods are predefined by Python and are used to define how objects of a class behave in certain operations or interactions.\n",
        "\n"
      ],
      "metadata": {
        "id": "9WdA339w9U5E"
      }
    },
    {
      "cell_type": "markdown",
      "source": [
        "6- Explain the concept of inheritance in OOP\n"
      ],
      "metadata": {
        "id": "99_3SkIB9q25"
      }
    },
    {
      "cell_type": "markdown",
      "source": [
        "Inheritance is a fundamental concept in OOP that allows one class (called the child class or subclass) to inherit attributes and methods from another class (called the parent class or superclass). It promotes code reuse, modularity, and the creation of hierarchical class structures.\n",
        "\n",
        "Key Concepts of Inheritance:\n",
        "Parent Class:\n",
        "\n",
        "The class that is being inherited from.\n",
        "It provides attributes and methods to the child class.\n",
        "Child Class:\n",
        "\n",
        "The class that inherits from the parent class.\n",
        "It can use the attributes and methods of the parent class and may also define its own additional attributes or methods.\n",
        "Code Reusability:\n",
        "\n",
        "Common functionality is implemented in the parent class and reused in the child class, reducing redundancy.\n",
        "Overriding:\n",
        "\n",
        "The child class can redefine or override methods from the parent class to change their behavior.\n",
        "Access Control:\n",
        "\n",
        "Protected and public attributes/methods in the parent class can be accessed by the child class, but private attributes/methods are not directly accessible.\n"
      ],
      "metadata": {
        "id": "MhTePMNn91zX"
      }
    },
    {
      "cell_type": "markdown",
      "source": [
        "7- What is polymorphism in OOP"
      ],
      "metadata": {
        "id": "z9LPJa_k9_U-"
      }
    },
    {
      "cell_type": "markdown",
      "source": [
        "Polymorphism is a core concept in OOP that allows objects of different classes to be treated as objects of a common superclass. It enables a single interface to represent different underlying data types or behaviors. In essence, polymorphism means \"many forms\"."
      ],
      "metadata": {
        "id": "POh9H58m-KIy"
      }
    },
    {
      "cell_type": "markdown",
      "source": [
        "8- How is encapsulation achieved in Python\n"
      ],
      "metadata": {
        "id": "5vGaShup-QAT"
      }
    },
    {
      "cell_type": "markdown",
      "source": [
        "Encapsulation in Python is achieved by bundling data (attributes) and methods (functions) that operate on that data into a single unit called a class. It also involves restricting direct access to some attributes or methods to protect the integrity of the data and ensure controlled interaction with it."
      ],
      "metadata": {
        "id": "V11N3UKE-Xv8"
      }
    },
    {
      "cell_type": "markdown",
      "source": [
        "9- What is a constructor in Python\n",
        "\n",
        "A constructor in Python is a special method that is automatically called when an object of a class is created. It is used to initialize the attributes (or state) of the object and set up any necessary operations during object creation.\n",
        "\n",
        "In Python, the constructor method is named __init__."
      ],
      "metadata": {
        "id": "vPnUSqSJ-j1p"
      }
    },
    {
      "cell_type": "markdown",
      "source": [
        "10-What are class and static methods in Python\n",
        "\n",
        "\n",
        "Class Methods and Static Methods in Python\n",
        "Python provides two types of special methods in addition to instance methods: class methods and static methods. These methods allow functionality that isn't tied to individual object instances and provide additional ways to design and organize code in a class.\n",
        "\n",
        "Class Methods\n",
        "\n",
        "A class method is a method that is bound to the class and not the instance of the class. It is used when you need to access or modify the class state rather than instance-specific data.\n",
        "\n",
        "Static Methods\n",
        "\n",
        "A static method is a method that doesn’t operate on an instance or class data. It is essentially a regular function that belongs to the class's namespace and is used to perform utility tasks related to the class.\n"
      ],
      "metadata": {
        "id": "mhkMzfQN--QY"
      }
    },
    {
      "cell_type": "markdown",
      "source": [
        "11-What is method overloading in Python\n",
        "\n",
        "Method Overloading in Python\n",
        "Method overloading is a concept in object-oriented programming where a class has multiple methods with the same name but different parameters (either in number, type, or both). This allows a class to define the same method to handle different kinds of input.\n",
        "\n",
        "However, Python does not support method overloading in the traditional sense, as seen in languages like Java or C++. In Python, the latest method definition overrides the previous ones, so only the last method with the same name is kept."
      ],
      "metadata": {
        "id": "T9m0Lfj7_g3v"
      }
    },
    {
      "cell_type": "markdown",
      "source": [
        "12-What is method overriding in OOP\n",
        "\n",
        "Method overriding is a feature in object-oriented programming where a subclass provides its own implementation of a method that is already defined in its superclass. The subclass method has the same name, parameters, and return type as the method in the parent class, but it provides its own specific behavior.\n",
        "\n",
        "Method overriding allows the subclass to customize or extend the functionality of a method that is inherited from the parent class. It is a key feature of polymorphism, as it enables a subclass to change or replace the behavior of a method defined in its superclass while maintaining a consistent interface."
      ],
      "metadata": {
        "id": "8k5C4fbO_56n"
      }
    },
    {
      "cell_type": "markdown",
      "source": [
        "13-What is a property decorator in Python\n",
        "\n",
        "In Python, the @property decorator is a built-in decorator that allows you to define getter methods for an attribute without needing to call them like methods. It allows you to define a method that behaves like an attribute, enabling encapsulation by controlling access to an attribute, while still providing the appearance of direct attribute access."
      ],
      "metadata": {
        "id": "JO-2pVIEAFqb"
      }
    },
    {
      "cell_type": "markdown",
      "source": [
        "14-Why is Polymorphism Important in Object-Oriented Programming (OOP)\n",
        "\n",
        "\n",
        "Polymorphism is one of the four core principles of object-oriented programming (OOP), alongside encapsulation, inheritance, and abstraction. It allows different classes to be treated as instances of the same class through a common interface, even if they implement methods in different ways. In simple terms, polymorphism allows objects of different types to respond to the same method or operation, but each in its own way."
      ],
      "metadata": {
        "id": "DfniLcomAW_v"
      }
    },
    {
      "cell_type": "markdown",
      "source": [
        "15-  What is an abstract class in Python\n",
        "\n",
        "An abstract class in Python is a class that cannot be instantiated directly and serves as a blueprint for other classes. It is designed to be subclassed, and it allows you to define methods that must be implemented by the subclasses, but it may also contain methods with default behavior.\n",
        "\n",
        "Abstract classes are defined using the ABC (Abstract Base Class) module in Python. This module provides the necessary tools to define abstract classes and enforce rules on the subclasses.\n"
      ],
      "metadata": {
        "id": "n1uHPoaRAkZA"
      }
    },
    {
      "cell_type": "markdown",
      "source": [
        "16-What are the advantages of OOP\n",
        "\n",
        "Object-Oriented Programming (OOP) is a programming paradigm that uses objects and classes to structure software in a way that mirrors real-world systems. It offers several significant advantages, especially for large, complex software systems. Below are the key advantages of OOP:\n",
        "\n",
        "1. Modularity\n",
        "\n",
        "Encapsulation: OOP allows data and methods that operate on that data to be bundled together within a class. This modularity means that classes are self-contained, and changes to one class (like updating its methods) don't impact others unless explicitly stated.\n",
        "\n",
        "Easy to Maintain: Since OOP divides a system into smaller modules (classes), it is easier to update and maintain the system. If a change is needed, you can modify one part (class or method) without affecting others.\n",
        "\n",
        "2. Reusability\n",
        "\n",
        "Inheritance: OOP allows for inheritance, which means that you can create new classes based on existing ones. This promotes code reuse, as a child class can inherit and extend the behavior of a parent class without rewriting code.\n",
        "\n",
        "Extensibility: Through inheritance and polymorphism, OOP makes it easier to extend the functionality of an application without affecting the rest of the system.\n"
      ],
      "metadata": {
        "id": "vWPg3sKWA0wA"
      }
    },
    {
      "cell_type": "markdown",
      "source": [
        "17- What is the difference between a class variable and an instance variable\n",
        "\n",
        "In Python, variables in a class can be categorized into class variables and instance variables. Both types of variables are used to store data, but they have significant differences in terms of scope, behavior, and how they are accessed.\n",
        "\n",
        "A class variable is a variable that is shared by all instances of the class. It is defined within the class but outside of any instance methods (i.e., methods not associated with self).\n",
        "\n",
        "Class variables are common to all instances, meaning that if one instance changes the class variable, it affects all other instances of the class.\n",
        "\n",
        "An instance variable is a variable that is specific to an instance (object) of a class. Each instance of the class has its own copy of the instance variables.\n",
        "\n",
        "These variables are defined within instance methods, typically in the __init__ constructor method using self."
      ],
      "metadata": {
        "id": "fAWCoQh0BEGo"
      }
    },
    {
      "cell_type": "markdown",
      "source": [
        "18- What is multiple inheritance in Python\n",
        "\n",
        "Multiple inheritance in Python refers to the ability of a class to inherit from more than one parent class. This allows the subclass to inherit the attributes and methods from multiple base classes, enabling the combination of behavior from different classes.\n",
        "\n",
        "In Python, you can define a subclass that inherits from more than one parent class by specifying multiple parent classes in the class definition, separated by commas.\n",
        "\n",
        "Multiple inheritance allows a class to inherit from more than one parent class.\n",
        "\n",
        "It helps in combining functionality from multiple classes into a single subclass, enabling code reusability and flexibility.\n",
        "\n",
        "However, multiple inheritance can introduce complexity, especially when classes share methods with the same name, so it's important to understand and manage the Method Resolution Order (MRO).\n",
        "\n",
        "\n"
      ],
      "metadata": {
        "id": "8aWBvFHnBeSy"
      }
    },
    {
      "cell_type": "markdown",
      "source": [],
      "metadata": {
        "id": "2kgG6dTyEQ-7"
      }
    },
    {
      "cell_type": "markdown",
      "source": [
        "19- Explain the purpose of ‘’__str__’ and ‘__repr__’ ‘ methods in Python\n",
        "\n",
        "1. __str__ Method\n",
        "\n",
        "The __str__ method is used to define the \"informal\" or \"user-friendly\" string representation of an object. This method is called by the str() function and the print() function when you attempt to print an object or convert it to a string. Its goal is to provide a readable and concise representation of the object that is easy for humans to understand.\n",
        "\n",
        "Purpose: Provides a human-readable or informal string representation of an object.\n",
        "Usage: This method is called when you use print() or str() on an object.\n",
        "\n",
        "2. __repr__ Method\n",
        "\n",
        "The __repr__ method is used to define the \"formal\" or \"developer-friendly\" string representation of an object. This method is called by the repr() function and is used in the interactive interpreter or when inspecting objects. The goal of __repr__ is to provide a string representation that, when passed to eval(), would ideally create an object that is equivalent to the original object (although this is not always possible).\n",
        "\n",
        "Purpose: Provides a detailed or unambiguous string representation of an object, typically for debugging or logging.\n",
        "Usage: This method is called by repr() or in the interactive shell (i.e., when an object is evaluated in the interpreter or printed in certain contexts like a list).\n"
      ],
      "metadata": {
        "id": "WwAdpmkFECXf"
      }
    },
    {
      "cell_type": "markdown",
      "source": [
        "20- What is the significance of the ‘super()’ function in Python\n",
        "\n",
        "The super() function in Python is used to call methods from a parent or superclass within a subclass. It is especially useful in the context of inheritance and method overriding, where you want to access the methods of the parent class from a subclass, without directly referencing the parent class by name.\n"
      ],
      "metadata": {
        "id": "JFGAhIvYEiDr"
      }
    },
    {
      "cell_type": "markdown",
      "source": [
        "21-  What is the significance of the __del__ method in Python\n",
        "\n",
        "The __del__ method in Python is a destructor method, called when an object is about to be deleted, allowing for custom cleanup actions (e.g., closing files, releasing resources).\n",
        "The timing of __del__ invocation is controlled by Python's garbage collector, which may not immediately delete objects, especially those with circular references.\n",
        "It is often recommended to use context managers (with statement) and explicit resource management instead of relying on __del__ for cleanup."
      ],
      "metadata": {
        "id": "KELzK3lREuym"
      }
    },
    {
      "cell_type": "markdown",
      "source": [
        "22- What is the difference between @staticmethod and @classmethod in Python\n",
        "\n",
        "Both @staticmethod and @classmethod are decorators in Python that allow you to define methods that are bound to a class rather than to an instance of the class. However, they are used in different scenarios, and there are key differences in how they work.\n",
        "\n",
        "@staticmethod:\n",
        "A static method is a method that does not depend on the instance or the class. It doesn't require access to any instance-specific data or class-specific data.\n",
        "A static method is bound to the class but does not take self (instance) or cls (class) as its first argument.\n",
        "\n",
        "@classmethod:\n",
        "A class method is a method that takes the class itself as its first argument (cls), rather than an instance (self). It is bound to the class and can modify the class state (class-level attributes).\n",
        "A class method can be called on the class itself, or on an instance of the class, but it always takes the class as the first argument.\n"
      ],
      "metadata": {
        "id": "pkK8abmXE_UJ"
      }
    },
    {
      "cell_type": "markdown",
      "source": [
        "23- How does polymorphism work in Python with inheritance\n",
        "\n",
        "Polymorphism is one of the core principles of Object-Oriented Programming (OOP), and in Python, it allows objects of different classes to be treated as objects of a common superclass. The most common form of polymorphism in Python is achieved through method overriding in inheritance.\n",
        "\n",
        "Polymorphism enables code reusability, flexibility, and extensibility, making it an essential concept in OOP."
      ],
      "metadata": {
        "id": "w5V4JI4bFULL"
      }
    },
    {
      "cell_type": "markdown",
      "source": [
        "24- What is method chaining in Python OOP\n",
        "\n",
        "Method chaining is a programming technique in Object-Oriented Programming (OOP) where multiple methods are called on the same object in a single line of code. This is achieved by having each method return the object itself (self), which allows the next method to be called on the same object.\n",
        "\n",
        "In Python, method chaining is commonly used to make the code more concise and readable, especially when working with classes that perform a series of operations."
      ],
      "metadata": {
        "id": "etLxNLq5Fp2r"
      }
    },
    {
      "cell_type": "markdown",
      "source": [
        "25-What is the purpose of the __call__ method in Python\n",
        "\n",
        "The __call__ method in Python is a special method (also known as a dunder method) that allows an instance of a class to be called like a function. When you define the __call__ method in a class, you enable instances of that class to be invoked as if they were functions. This is a form of callable objects, where an object can be used like a function or method.\n",
        "\n"
      ],
      "metadata": {
        "id": "hjaT5tAoFzAh"
      }
    },
    {
      "cell_type": "markdown",
      "source": [
        "**PRACTICAL QUESTION**\n",
        "\n"
      ],
      "metadata": {
        "id": "EpyvrtZPGEKa"
      }
    },
    {
      "cell_type": "markdown",
      "source": [
        "1-Create a parent class Animal with a method speak() that prints a generic message. Create a child class Dog\n",
        "that overrides the speak() method to print \"Bark!\".\n",
        "\n"
      ],
      "metadata": {
        "id": "YsSHlyuHGKyC"
      }
    },
    {
      "cell_type": "code",
      "source": [
        "# Parent class Animal\n",
        "class Animal:\n",
        "    def speak(self):\n",
        "        print(\"The animal makes a sound.\")\n",
        "\n",
        "# Child class Dog inheriting from Animal\n",
        "class Dog(Animal):\n",
        "    def speak(self):\n",
        "        print(\"Bark!\")\n",
        "\n",
        "# Create an instance of Animal and call speak\n",
        "animal = Animal()\n",
        "animal.speak()  # Output: The animal makes a sound.\n",
        "\n",
        "# Create an instance of Dog and call speak\n",
        "dog = Dog()\n",
        "dog.speak()  # Output: Bark!\n"
      ],
      "metadata": {
        "colab": {
          "base_uri": "https://localhost:8080/"
        },
        "id": "rew_Z5VpGQi7",
        "outputId": "92f1360a-911a-4c84-aa5f-701e1feff8fa"
      },
      "execution_count": 1,
      "outputs": [
        {
          "output_type": "stream",
          "name": "stdout",
          "text": [
            "The animal makes a sound.\n",
            "Bark!\n"
          ]
        }
      ]
    },
    {
      "cell_type": "markdown",
      "source": [
        "2-  Write a program to create an abstract class Shape with a method area(). Derive classes Circle and Rectangle\n",
        "from it and implement the area() method in both\n"
      ],
      "metadata": {
        "id": "jCpvGXPnGjtm"
      }
    },
    {
      "cell_type": "code",
      "source": [
        "from abc import ABC, abstractmethod\n",
        "import math\n",
        "\n",
        "# Abstract class Shape\n",
        "class Shape(ABC):\n",
        "    @abstractmethod\n",
        "    def area(self):\n",
        "        pass\n",
        "\n",
        "# Class Circle derived from Shape\n",
        "class Circle(Shape):\n",
        "    def __init__(self, radius):\n",
        "        self.radius = radius\n",
        "\n",
        "    def area(self):\n",
        "        return math.pi * self.radius ** 2\n",
        "\n",
        "# Class Rectangle derived from Shape\n",
        "class Rectangle(Shape):\n",
        "    def __init__(self, length, width):\n",
        "        self.length = length\n",
        "        self.width = width\n",
        "\n",
        "    def area(self):\n",
        "        return self.length * self.width\n",
        "\n",
        "# Create an instance of Circle and calculate the area\n",
        "circle = Circle(5)\n",
        "print(f\"Area of Circle: {circle.area()}\")\n",
        "\n",
        "# Create an instance of Rectangle and calculate the area\n",
        "rectangle = Rectangle(4, 6)\n",
        "print(f\"Area of Rectangle: {rectangle.area()}\")"
      ],
      "metadata": {
        "colab": {
          "base_uri": "https://localhost:8080/"
        },
        "id": "kFpuQfH3GmuG",
        "outputId": "0998a2d2-563b-4f74-a394-c15a5fecc24a"
      },
      "execution_count": 2,
      "outputs": [
        {
          "output_type": "stream",
          "name": "stdout",
          "text": [
            "Area of Circle: 78.53981633974483\n",
            "Area of Rectangle: 24\n"
          ]
        }
      ]
    },
    {
      "cell_type": "markdown",
      "source": [
        "3- Implement a multi-level inheritance scenario where a class Vehicle has an attribute type. Derive a class Car\n",
        "and further derive a class ElectricCar that adds a battery attribute."
      ],
      "metadata": {
        "id": "lvlQu-ReGzXS"
      }
    },
    {
      "cell_type": "code",
      "source": [],
      "metadata": {
        "id": "KkQRnDwSGe4C"
      },
      "execution_count": null,
      "outputs": []
    },
    {
      "cell_type": "code",
      "source": [
        "# Base class Vehicle\n",
        "class Vehicle:\n",
        "    def __init__(self, type):\n",
        "        self.type = type\n",
        "\n",
        "    def display_info(self):\n",
        "        print(f\"Vehicle type: {self.type}\")\n",
        "\n",
        "# Derived class Car inheriting from Vehicle\n",
        "class Car(Vehicle):\n",
        "    def __init__(self, type, make, model):\n",
        "        super().__init__(type)  # Call the constructor of the parent class (Vehicle)\n",
        "        self.make = make\n",
        "        self.model = model\n",
        "\n",
        "    def display_info(self):\n",
        "        super().display_info()  # Call the display_info method of the parent class (Vehicle)\n",
        "        print(f\"Car make: {self.make}, Model: {self.model}\")\n",
        "\n",
        "# Further derived class ElectricCar inheriting from Car\n",
        "class ElectricCar(Car):\n",
        "    def __init__(self, type, make, model, battery):\n",
        "        super().__init__(type, make, model)  # Call the constructor of the parent class (Car)\n",
        "        self.battery = battery\n",
        "\n",
        "    def display_info(self):\n",
        "        super().display_info()  # Call the display_info method of the parent class (Car)\n",
        "        print(f\"Battery capacity: {self.battery} kWh\")\n",
        "\n",
        "# Create an instance of ElectricCar\n",
        "electric_car = ElectricCar(\"Electric\", \"Tesla\", \"Model S\", 100)\n",
        "\n",
        "# Display information about the electric car\n",
        "electric_car.display_info()"
      ],
      "metadata": {
        "colab": {
          "base_uri": "https://localhost:8080/"
        },
        "id": "Q6K6FlcSG2LF",
        "outputId": "ae1d4d5f-9c07-4809-c807-ac9d2091b17c"
      },
      "execution_count": 3,
      "outputs": [
        {
          "output_type": "stream",
          "name": "stdout",
          "text": [
            "Vehicle type: Electric\n",
            "Car make: Tesla, Model: Model S\n",
            "Battery capacity: 100 kWh\n"
          ]
        }
      ]
    },
    {
      "cell_type": "markdown",
      "source": [
        "4-  Write a program to demonstrate encapsulation by creating a class BankAccount with private attributes\n",
        "balance and methods to deposit, withdraw, and check balance.\n"
      ],
      "metadata": {
        "id": "4DPWgJTRHEXf"
      }
    },
    {
      "cell_type": "code",
      "source": [
        "class BankAccount:\n",
        "    def __init__(self, initial_balance=0):\n",
        "        self.__balance = initial_balance  # Private attribute\n",
        "\n",
        "    # Method to deposit money\n",
        "    def deposit(self, amount):\n",
        "        if amount > 0:\n",
        "            self.__balance += amount\n",
        "            print(f\"Deposited ${amount}. Current balance: ${self.__balance}\")\n",
        "        else:\n",
        "            print(\"Deposit amount must be positive.\")\n",
        "\n",
        "    # Method to withdraw money\n",
        "    def withdraw(self, amount):\n",
        "        if 0 < amount <= self.__balance:\n",
        "            self.__balance -= amount\n",
        "            print(f\"Withdrew ${amount}. Current balance: ${self.__balance}\")\n",
        "        else:\n",
        "            print(\"Insufficient funds or invalid amount.\")\n",
        "\n",
        "    # Method to check the balance\n",
        "    def check_balance(self):\n",
        "        print(f\"Current balance: ${self.__balance}\")\n",
        "\n",
        "# Create a BankAccount instance with an initial balance\n",
        "account = BankAccount(1000)\n",
        "\n",
        "# Check the initial balance\n",
        "account.check_balance()\n",
        "\n",
        "# Deposit money\n",
        "account.deposit(500)\n",
        "\n",
        "# Withdraw money\n",
        "account.withdraw(200)\n",
        "\n",
        "# Try to withdraw an invalid amount (greater than balance)\n",
        "account.withdraw(1500)\n",
        "\n",
        "# Check balance again\n",
        "account.check_balance()"
      ],
      "metadata": {
        "colab": {
          "base_uri": "https://localhost:8080/"
        },
        "id": "jnxvUkRrHrns",
        "outputId": "8b278b37-c35f-40aa-e02c-c4ee73a49836"
      },
      "execution_count": 4,
      "outputs": [
        {
          "output_type": "stream",
          "name": "stdout",
          "text": [
            "Current balance: $1000\n",
            "Deposited $500. Current balance: $1500\n",
            "Withdrew $200. Current balance: $1300\n",
            "Insufficient funds or invalid amount.\n",
            "Current balance: $1300\n"
          ]
        }
      ]
    },
    {
      "cell_type": "markdown",
      "source": [
        "5- Demonstrate runtime polymorphism using a method play() in a base class Instrument. Derive classes Guitar\n",
        "and Piano that implement their own version of play().\n",
        "\n",
        "\n"
      ],
      "metadata": {
        "id": "ARRevLF-HuDB"
      }
    },
    {
      "cell_type": "markdown",
      "source": [],
      "metadata": {
        "id": "ETYmNfzhICwi"
      }
    },
    {
      "cell_type": "code",
      "source": [
        "# Base class\n",
        "class Instrument:\n",
        "    def play(self):\n",
        "        raise NotImplementedError(\"Subclasses should implement this method\")\n",
        "\n",
        "# Derived class Guitar\n",
        "class Guitar(Instrument):\n",
        "    def play(self):\n",
        "        print(\"Strumming the guitar!\")\n",
        "\n",
        "# Derived class Piano\n",
        "class Piano(Instrument):\n",
        "    def play(self):\n",
        "        print(\"Playing the piano!\")\n",
        "\n",
        "# Demonstrate runtime polymorphism\n",
        "instruments = [Guitar(), Piano()]\n",
        "for instrument in instruments:\n",
        "    instrument.play()  # This will call the appropriate play method at runtime"
      ],
      "metadata": {
        "id": "FAUpiVgjIDJS"
      },
      "execution_count": null,
      "outputs": []
    },
    {
      "cell_type": "markdown",
      "source": [
        "6-.  Create a class MathOperations with a class method add_numbers() to add two numbers and a static\n",
        "method subtract_numbers() to subtract two numbers."
      ],
      "metadata": {
        "id": "So-AJ8BIIHJg"
      }
    },
    {
      "cell_type": "code",
      "source": [
        "class MathOperations:\n",
        "    @classmethod\n",
        "    def add_numbers(cls, num1, num2):\n",
        "        return num1 + num2\n",
        "\n",
        "    @staticmethod\n",
        "    def subtract_numbers(num1, num2):\n",
        "        return num1 - num2\n",
        "\n",
        "# Demonstrating the methods\n",
        "print(MathOperations.add_numbers(5, 3))  # Output: 8\n",
        "print(MathOperations.subtract_numbers(5, 3))  # Output: 2"
      ],
      "metadata": {
        "id": "eHfqFKf8IQZq"
      },
      "execution_count": null,
      "outputs": []
    },
    {
      "cell_type": "markdown",
      "source": [
        "7- Implement a class Person with a class method to count the total number of persons created."
      ],
      "metadata": {
        "id": "d0_HpMpKIUJ3"
      }
    },
    {
      "cell_type": "code",
      "source": [
        "class Person:\n",
        "    count = 0  # Class variable to keep track of the number of instances\n",
        "\n",
        "    def __init__(self, name, age):\n",
        "        self.name = name\n",
        "        self.age = age\n",
        "        Person.count += 1\n",
        "\n",
        "    @classmethod\n",
        "    def total_persons(cls):\n",
        "        return cls.count\n",
        "\n",
        "# Create instances of Person\n",
        "p1 = Person(\"Alice\", 30)\n",
        "p2 = Person(\"Bob\", 25)\n",
        "\n",
        "print(Person.total_persons())  # Output: 2"
      ],
      "metadata": {
        "id": "R6jXHPsIIWSU"
      },
      "execution_count": null,
      "outputs": []
    },
    {
      "cell_type": "markdown",
      "source": [
        "8- Write a class Fraction with attributes numerator and denominator. Override the str method to display the\n",
        "fraction as \"numerator/denominator\"."
      ],
      "metadata": {
        "id": "M0R5QUlRIY8J"
      }
    },
    {
      "cell_type": "code",
      "source": [
        "class Fraction:\n",
        "    def __init__(self, numerator, denominator):\n",
        "        self.numerator = numerator\n",
        "        self.denominator = denominator\n",
        "\n",
        "    def __str__(self):\n",
        "        return f\"{self.numerator}/{self.denominator}\"\n",
        "\n",
        "# Create an instance of Fraction\n",
        "fraction = Fraction(3, 4)\n",
        "print(fraction)  # Output: 3/4"
      ],
      "metadata": {
        "id": "bZ8UN0spId39"
      },
      "execution_count": null,
      "outputs": []
    },
    {
      "cell_type": "markdown",
      "source": [
        "9- Demonstrate operator overloading by creating a class Vector and overriding the add method to add two\n",
        "vectors.\n"
      ],
      "metadata": {
        "id": "RtjR0jNQIx8R"
      }
    },
    {
      "cell_type": "code",
      "source": [
        "class Vector:\n",
        "    def __init__(self, x, y):\n",
        "        self.x = x\n",
        "        self.y = y\n",
        "\n",
        "    # Overload the + operator\n",
        "    def __add__(self, other):\n",
        "        return Vector(self.x + other.x, self.y + other.y)\n",
        "\n",
        "    def __str__(self):\n",
        "        return f\"({self.x}, {self.y})\"\n",
        "\n",
        "# Create two vectors\n",
        "v1 = Vector(1, 2)\n",
        "v2 = Vector(3, 4)\n",
        "\n",
        "# Add the vectors using overloaded + operator\n",
        "v3 = v1 + v2\n",
        "print(v3)  # Output: (4, 6)"
      ],
      "metadata": {
        "id": "V2XCWYLKI09A"
      },
      "execution_count": null,
      "outputs": []
    },
    {
      "cell_type": "markdown",
      "source": [
        "10- Create a class Person with attributes name and age. Add a method greet() that prints \"Hello, my name is\n",
        "{name} and I am {age} years old.\n"
      ],
      "metadata": {
        "id": "fxP3lmU3I5iI"
      }
    },
    {
      "cell_type": "code",
      "source": [
        "class Person:\n",
        "    def __init__(self, name, age):\n",
        "        self.name = name\n",
        "        self.age = age\n",
        "\n",
        "    def greet(self):\n",
        "        print(f\"Hello, my name is {self.name} and I am {self.age} years old.\")\n",
        "\n",
        "# Create an instance of Person\n",
        "person = Person(\"John\", 28)\n",
        "person.greet()  # Output: Hello, my name is John and I am 28 years old."
      ],
      "metadata": {
        "id": "_KuFVbw5I8q4"
      },
      "execution_count": null,
      "outputs": []
    },
    {
      "cell_type": "markdown",
      "source": [
        "11-. Implement a class Student with attributes name and grades. Create a method average_grade() to compute\n",
        "the average of the grades.\n"
      ],
      "metadata": {
        "id": "EiIe0hZxI-9J"
      }
    },
    {
      "cell_type": "code",
      "source": [
        "class Student:\n",
        "    def __init__(self, name, grades):\n",
        "        self.name = name\n",
        "        self.grades = grades\n",
        "\n",
        "    def average_grade(self):\n",
        "        return sum(self.grades) / len(self.grades)\n",
        "\n",
        "# Create an instance of Student\n",
        "student = Student(\"Tom\", [90, 85, 88, 92])\n",
        "print(student.average_grade())  # Output: 88.75"
      ],
      "metadata": {
        "id": "fmhOQ3pJJBII"
      },
      "execution_count": null,
      "outputs": []
    },
    {
      "cell_type": "markdown",
      "source": [
        "12- Create a class Rectangle with methods set_dimensions() to set the dimensions and area() to calculate the\n",
        "area."
      ],
      "metadata": {
        "id": "LAPaSD7xJDEq"
      }
    },
    {
      "cell_type": "code",
      "source": [
        "class Rectangle:\n",
        "    def __init__(self):\n",
        "        self.length = 0\n",
        "        self.width = 0\n",
        "\n",
        "    def set_dimensions(self, length, width):\n",
        "        self.length = length\n",
        "        self.width = width\n",
        "\n",
        "    def area(self):\n",
        "        return self.length * self.width\n",
        "\n",
        "# Create an instance of Rectangle\n",
        "rectangle = Rectangle()\n",
        "rectangle.set_dimensions(4, 5)\n",
        "print(rectangle.area())  # Output: 20"
      ],
      "metadata": {
        "id": "boG2esUTJGK7"
      },
      "execution_count": null,
      "outputs": []
    },
    {
      "cell_type": "markdown",
      "source": [
        "13-  Create a class Employee with a method calculate_salary() that computes the salary based on hours worked\n",
        "and hourly rate. Create a derived class Manager that adds a bonus to the salary"
      ],
      "metadata": {
        "id": "xieVPWHeJKFZ"
      }
    },
    {
      "cell_type": "code",
      "source": [
        "class Employee:\n",
        "    def __init__(self, hours_worked, hourly_rate):\n",
        "        self.hours_worked = hours_worked\n",
        "        self.hourly_rate = hourly_rate\n",
        "\n",
        "    def calculate_salary(self):\n",
        "        return self.hours_worked * self.hourly_rate\n",
        "\n",
        "class Manager(Employee):\n",
        "    def __init__(self, hours_worked, hourly_rate, bonus):\n",
        "        super().__init__(hours_worked, hourly_rate)\n",
        "        self.bonus = bonus\n",
        "\n",
        "    def calculate_salary(self):\n",
        "        return super().calculate_salary() + self.bonus\n",
        "\n",
        "# Create instances of Employee and Manager\n",
        "employee = Employee(40, 25)\n",
        "manager = Manager(40, 30, 500)\n",
        "\n",
        "print(employee.calculate_salary())  # Output: 1000\n",
        "print(manager.calculate_salary())  # Output: 1700"
      ],
      "metadata": {
        "id": "NNr1sBDOJOJ2"
      },
      "execution_count": null,
      "outputs": []
    },
    {
      "cell_type": "markdown",
      "source": [
        "14-. Create a class Product with attributes name, price, and quantity. Implement a method total_price() that\n",
        "calculates the total price of the product."
      ],
      "metadata": {
        "id": "zHnXYHryJRSJ"
      }
    },
    {
      "cell_type": "code",
      "source": [
        "class Product:\n",
        "    def __init__(self, name, price, quantity):\n",
        "        self.name = name\n",
        "        self.price = price\n",
        "        self.quantity = quantity\n",
        "\n",
        "    def total_price(self):\n",
        "        return self.price * self.quantity\n",
        "\n",
        "# Create an instance of Product\n",
        "product = Product(\"Laptop\", 1000, 3)\n",
        "print(product.total_price())  # Output: 3000"
      ],
      "metadata": {
        "id": "YZEHEDO4JU2J"
      },
      "execution_count": null,
      "outputs": []
    },
    {
      "cell_type": "markdown",
      "source": [
        "15- Create a class Animal with an abstract method sound(). Create two derived classes Cow and Sheep that\n",
        "implement the sound() method."
      ],
      "metadata": {
        "id": "KcY5gwK7JWsU"
      }
    },
    {
      "cell_type": "code",
      "source": [
        "from abc import ABC, abstractmethod\n",
        "\n",
        "class Animal(ABC):\n",
        "    @abstractmethod\n",
        "    def sound(self):\n",
        "        pass\n",
        "\n",
        "class Cow(Animal):\n",
        "    def sound(self):\n",
        "        return \"Moo\"\n",
        "\n",
        "class Sheep(Animal):\n",
        "    def sound(self):\n",
        "        return \"Baa\"\n",
        "\n",
        "# Create instances of Cow and Sheep\n",
        "cow = Cow()\n",
        "sheep = Sheep()\n",
        "\n",
        "print(cow.sound())  # Output: Moo\n",
        "print(sheep.sound())  # Output: Baa"
      ],
      "metadata": {
        "id": "5TCjSuIhJZbG"
      },
      "execution_count": null,
      "outputs": []
    },
    {
      "cell_type": "markdown",
      "source": [
        "16-Create a class Book with attributes title, author, and year_published. Add a method get_book_info() that\n",
        "returns a formatted string with the book's details.\n"
      ],
      "metadata": {
        "id": "bas_JFhwJbRn"
      }
    },
    {
      "cell_type": "code",
      "source": [
        "class Book:\n",
        "    def __init__(self, title, author, year_published):\n",
        "        self.title = title\n",
        "        self.author = author\n",
        "        self.year_published = year_published\n",
        "\n",
        "    def get_book_info(self):\n",
        "        return f\"Title: {self.title}, Author: {self.author}, Year: {self.year_published}\"\n",
        "\n",
        "# Create an instance of Book\n",
        "book = Book(\"1984\", \"George Orwell\", 1949)\n",
        "print(book.get_book_info())  # Output: Title: 1984, Author: George Orwell, Year: 1949"
      ],
      "metadata": {
        "id": "u0_9HzLcJkZ2"
      },
      "execution_count": null,
      "outputs": []
    },
    {
      "cell_type": "markdown",
      "source": [
        "17- Create a class House with attributes address and price. Create a derived class Mansion that adds an\n",
        "attribute number_of_rooms."
      ],
      "metadata": {
        "id": "eKMd1gMpJpnl"
      }
    },
    {
      "cell_type": "code",
      "source": [
        "class House:\n",
        "    def __init__(self, address, price):\n",
        "        self.address = address\n",
        "        self.price = price\n",
        "\n",
        "class Mansion(House):\n",
        "    def __init__(self, address, price, number_of_rooms):\n",
        "        super().__init__(address, price)\n",
        "        self.number_of_rooms = number_of_rooms\n",
        "\n",
        "# Create an instance of Mansion\n",
        "mansion = Mansion(\"123 Mansion St.\", 1000000, 10)\n",
        "print(f\"Address: {mansion.address}, Price: {mansion.price}, Rooms: {mansion.number_of_rooms}\")"
      ],
      "metadata": {
        "id": "WWz5Jb8eJsSq"
      },
      "execution_count": null,
      "outputs": []
    },
    {
      "cell_type": "markdown",
      "source": [],
      "metadata": {
        "id": "QKbYqanJEobN"
      }
    },
    {
      "cell_type": "markdown",
      "source": [],
      "metadata": {
        "id": "C5qs3oG6EUM-"
      }
    },
    {
      "cell_type": "markdown",
      "source": [],
      "metadata": {
        "id": "EZOKMKcNEIji"
      }
    },
    {
      "cell_type": "code",
      "source": [],
      "metadata": {
        "id": "02sFdfIy9kUj"
      },
      "execution_count": null,
      "outputs": []
    },
    {
      "cell_type": "markdown",
      "source": [],
      "metadata": {
        "id": "OokF1mzk93dv"
      }
    },
    {
      "cell_type": "markdown",
      "source": [
        "5-"
      ],
      "metadata": {
        "id": "mzr5J1AO9hwB"
      }
    },
    {
      "cell_type": "markdown",
      "source": [],
      "metadata": {
        "id": "BULsQSMj9Mtl"
      }
    },
    {
      "cell_type": "markdown",
      "source": [],
      "metadata": {
        "id": "_aX5b3ue84Fy"
      }
    }
  ]
}